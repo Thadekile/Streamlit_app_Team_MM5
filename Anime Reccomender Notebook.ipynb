{
 "cells": [
  {
   "cell_type": "code",
   "execution_count": 1,
   "id": "e26d6ed9-6284-4af9-8c77-cc4207eddd1e",
   "metadata": {},
   "outputs": [],
   "source": [
    "#Import Packages\n",
    "import pandas as pd\n",
    "import numpy as np\n",
    "import re\n",
    "import string\n",
    "import nltk\n",
    "from nltk import TreebankWordTokenizer\n",
    "from nltk.corpus import stopwords\n",
    "from nltk.stem import WordNetLemmatizer\n",
    "from nltk.tokenize import word_tokenize"
   ]
  },
  {
   "cell_type": "markdown",
   "id": "7d34e754-b9a3-4c50-a488-ed2d118c5441",
   "metadata": {},
   "source": [
    "## Loading Data"
   ]
  },
  {
   "cell_type": "code",
   "execution_count": 2,
   "id": "50540406-a56d-4d40-8fa7-30974afe2ee0",
   "metadata": {},
   "outputs": [],
   "source": [
    "anime_df = pd.read_csv(\"anime.csv\")\n",
    "test_df = pd.read_csv(\"test.csv\")\n",
    "train_df = pd.read_csv(\"train.csv\")\n",
    "\n",
    "#make copies of each csv file\n",
    "anime_copy = anime_df.copy()\n",
    "test_copy = test_df.copy()\n",
    "train_copy = train_df.copy()\n"
   ]
  },
  {
   "cell_type": "code",
   "execution_count": 87,
   "id": "6ae0841e-25ff-43b2-837c-b6a5152471ce",
   "metadata": {},
   "outputs": [
    {
     "data": {
      "text/html": [
       "<div>\n",
       "<style scoped>\n",
       "    .dataframe tbody tr th:only-of-type {\n",
       "        vertical-align: middle;\n",
       "    }\n",
       "\n",
       "    .dataframe tbody tr th {\n",
       "        vertical-align: top;\n",
       "    }\n",
       "\n",
       "    .dataframe thead th {\n",
       "        text-align: right;\n",
       "    }\n",
       "</style>\n",
       "<table border=\"1\" class=\"dataframe\">\n",
       "  <thead>\n",
       "    <tr style=\"text-align: right;\">\n",
       "      <th></th>\n",
       "      <th>anime_id</th>\n",
       "      <th>name</th>\n",
       "      <th>genre</th>\n",
       "      <th>type</th>\n",
       "      <th>episodes</th>\n",
       "      <th>rating</th>\n",
       "      <th>members</th>\n",
       "    </tr>\n",
       "  </thead>\n",
       "  <tbody>\n",
       "    <tr>\n",
       "      <th>0</th>\n",
       "      <td>32281</td>\n",
       "      <td>Kimi no Na wa.</td>\n",
       "      <td>Drama, Romance, School, Supernatural</td>\n",
       "      <td>Movie</td>\n",
       "      <td>1</td>\n",
       "      <td>9.37</td>\n",
       "      <td>200630</td>\n",
       "    </tr>\n",
       "    <tr>\n",
       "      <th>1</th>\n",
       "      <td>5114</td>\n",
       "      <td>Fullmetal Alchemist: Brotherhood</td>\n",
       "      <td>Action, Adventure, Drama, Fantasy, Magic, Mili...</td>\n",
       "      <td>TV</td>\n",
       "      <td>64</td>\n",
       "      <td>9.26</td>\n",
       "      <td>793665</td>\n",
       "    </tr>\n",
       "    <tr>\n",
       "      <th>2</th>\n",
       "      <td>28977</td>\n",
       "      <td>Gintama°</td>\n",
       "      <td>Action, Comedy, Historical, Parody, Samurai, S...</td>\n",
       "      <td>TV</td>\n",
       "      <td>51</td>\n",
       "      <td>9.25</td>\n",
       "      <td>114262</td>\n",
       "    </tr>\n",
       "    <tr>\n",
       "      <th>3</th>\n",
       "      <td>9253</td>\n",
       "      <td>Steins;Gate</td>\n",
       "      <td>Sci-Fi, Thriller</td>\n",
       "      <td>TV</td>\n",
       "      <td>24</td>\n",
       "      <td>9.17</td>\n",
       "      <td>673572</td>\n",
       "    </tr>\n",
       "    <tr>\n",
       "      <th>4</th>\n",
       "      <td>9969</td>\n",
       "      <td>Gintama&amp;#039;</td>\n",
       "      <td>Action, Comedy, Historical, Parody, Samurai, S...</td>\n",
       "      <td>TV</td>\n",
       "      <td>51</td>\n",
       "      <td>9.16</td>\n",
       "      <td>151266</td>\n",
       "    </tr>\n",
       "  </tbody>\n",
       "</table>\n",
       "</div>"
      ],
      "text/plain": [
       "   anime_id                              name  \\\n",
       "0     32281                    Kimi no Na wa.   \n",
       "1      5114  Fullmetal Alchemist: Brotherhood   \n",
       "2     28977                          Gintama°   \n",
       "3      9253                       Steins;Gate   \n",
       "4      9969                     Gintama&#039;   \n",
       "\n",
       "                                               genre   type episodes  rating  \\\n",
       "0               Drama, Romance, School, Supernatural  Movie        1    9.37   \n",
       "1  Action, Adventure, Drama, Fantasy, Magic, Mili...     TV       64    9.26   \n",
       "2  Action, Comedy, Historical, Parody, Samurai, S...     TV       51    9.25   \n",
       "3                                   Sci-Fi, Thriller     TV       24    9.17   \n",
       "4  Action, Comedy, Historical, Parody, Samurai, S...     TV       51    9.16   \n",
       "\n",
       "   members  \n",
       "0   200630  \n",
       "1   793665  \n",
       "2   114262  \n",
       "3   673572  \n",
       "4   151266  "
      ]
     },
     "execution_count": 87,
     "metadata": {},
     "output_type": "execute_result"
    }
   ],
   "source": [
    "anime_copy.head()"
   ]
  },
  {
   "cell_type": "code",
   "execution_count": 88,
   "id": "321f2239-051d-4f36-8575-be19040f2ce5",
   "metadata": {},
   "outputs": [
    {
     "data": {
      "text/html": [
       "<div>\n",
       "<style scoped>\n",
       "    .dataframe tbody tr th:only-of-type {\n",
       "        vertical-align: middle;\n",
       "    }\n",
       "\n",
       "    .dataframe tbody tr th {\n",
       "        vertical-align: top;\n",
       "    }\n",
       "\n",
       "    .dataframe thead th {\n",
       "        text-align: right;\n",
       "    }\n",
       "</style>\n",
       "<table border=\"1\" class=\"dataframe\">\n",
       "  <thead>\n",
       "    <tr style=\"text-align: right;\">\n",
       "      <th></th>\n",
       "      <th>user_id</th>\n",
       "      <th>anime_id</th>\n",
       "      <th>rating</th>\n",
       "    </tr>\n",
       "  </thead>\n",
       "  <tbody>\n",
       "    <tr>\n",
       "      <th>0</th>\n",
       "      <td>1</td>\n",
       "      <td>11617</td>\n",
       "      <td>10</td>\n",
       "    </tr>\n",
       "    <tr>\n",
       "      <th>1</th>\n",
       "      <td>1</td>\n",
       "      <td>11757</td>\n",
       "      <td>10</td>\n",
       "    </tr>\n",
       "    <tr>\n",
       "      <th>2</th>\n",
       "      <td>1</td>\n",
       "      <td>15451</td>\n",
       "      <td>10</td>\n",
       "    </tr>\n",
       "    <tr>\n",
       "      <th>3</th>\n",
       "      <td>2</td>\n",
       "      <td>11771</td>\n",
       "      <td>10</td>\n",
       "    </tr>\n",
       "    <tr>\n",
       "      <th>4</th>\n",
       "      <td>3</td>\n",
       "      <td>20</td>\n",
       "      <td>8</td>\n",
       "    </tr>\n",
       "  </tbody>\n",
       "</table>\n",
       "</div>"
      ],
      "text/plain": [
       "   user_id  anime_id  rating\n",
       "0        1     11617      10\n",
       "1        1     11757      10\n",
       "2        1     15451      10\n",
       "3        2     11771      10\n",
       "4        3        20       8"
      ]
     },
     "execution_count": 88,
     "metadata": {},
     "output_type": "execute_result"
    }
   ],
   "source": [
    "train_copy.head()"
   ]
  },
  {
   "cell_type": "code",
   "execution_count": 3,
   "id": "b5835342-bf8f-430c-86bb-56e04b345514",
   "metadata": {},
   "outputs": [],
   "source": [
    "def check_data(df):\n",
    "    \"\"\"\n",
    "    -Checks for missing values and duplicates\n",
    "    -Deletes duplicates\n",
    "    -handles missing values through imputation method\n",
    "    \"\"\"\n",
    "    duplicates = df.duplicated().sum()\n",
    "    print(f\"total number of duplicate rows: {duplicates}\")\n",
    "    \n",
    "    null_values = df.isnull().sum()\n",
    "    print(\"Missing values in each column: \")\n",
    "    print(null_values)\n",
    "    \n",
    "    return "
   ]
  },
  {
   "cell_type": "code",
   "execution_count": 90,
   "id": "7584daed-bc54-4757-af08-6f99f75b9e2f",
   "metadata": {},
   "outputs": [
    {
     "name": "stdout",
     "output_type": "stream",
     "text": [
      "total number of duplicate rows: 0\n",
      "Missing values in each column: \n",
      "anime_id      0\n",
      "name          0\n",
      "genre        62\n",
      "type         25\n",
      "episodes      0\n",
      "rating      230\n",
      "members       0\n",
      "dtype: int64\n"
     ]
    }
   ],
   "source": [
    "check_data(anime_copy)"
   ]
  },
  {
   "cell_type": "code",
   "execution_count": 91,
   "id": "879899a4-2363-45c9-9fc7-b19749bd283f",
   "metadata": {},
   "outputs": [
    {
     "name": "stdout",
     "output_type": "stream",
     "text": [
      "total number of duplicate rows: 1\n",
      "Missing values in each column: \n",
      "user_id     0\n",
      "anime_id    0\n",
      "rating      0\n",
      "dtype: int64\n"
     ]
    }
   ],
   "source": [
    "check_data(train_copy)"
   ]
  },
  {
   "cell_type": "markdown",
   "id": "3ab986bb-d52f-4230-a669-ef914e7102c3",
   "metadata": {},
   "source": [
    "## Data Cleaning"
   ]
  },
  {
   "cell_type": "code",
   "execution_count": 4,
   "id": "0fd750f0-7841-4662-b66d-c455ae631cc5",
   "metadata": {},
   "outputs": [],
   "source": [
    "#code here\n",
    "def handle_missing_values(df):\n",
    "    \"\"\"Handles missing values in the dataframe:\n",
    "    -Fills missing values in categorical columns with the most frequent value.\n",
    "    -Fills missing values in the 'rating' column with the mean.\n",
    "\n",
    "    \"\"\"\n",
    "     #Delete duplicates\n",
    "    df = df.drop_duplicates()\n",
    "     \n",
    "    #Categorical data is filled with the most frequent value\n",
    "    for column in ['genre','type']:\n",
    "        most_frequent_value = df[column].mode()[0]\n",
    "        df[column].fillna(most_frequent_value, inplace=True)\n",
    "        \n",
    "    #Fill missing values in rating with the mean\n",
    "    mean_value = df['rating'].mean()\n",
    "    df['rating'].fillna(mean_value, inplace=True)\n",
    "    \n",
    "    #convert episodes to numeric and fill missing values with the median\n",
    "    df['episodes'] = pd.to_numeric(df['episodes'],errors='coerce') \n",
    "    median_value = df['episodes'].median()\n",
    "    df['episodes'].fillna(median_value, inplace=True)\n",
    "    \n",
    "    return df"
   ]
  },
  {
   "cell_type": "code",
   "execution_count": 5,
   "id": "c4dfcc94-8aef-49d5-a4fd-827ccf0752df",
   "metadata": {},
   "outputs": [
    {
     "name": "stderr",
     "output_type": "stream",
     "text": [
      "C:\\Users\\Thand\\AppData\\Local\\Temp\\ipykernel_29136\\1149771285.py:14: FutureWarning: A value is trying to be set on a copy of a DataFrame or Series through chained assignment using an inplace method.\n",
      "The behavior will change in pandas 3.0. This inplace method will never work because the intermediate object on which we are setting values always behaves as a copy.\n",
      "\n",
      "For example, when doing 'df[col].method(value, inplace=True)', try using 'df.method({col: value}, inplace=True)' or df[col] = df[col].method(value) instead, to perform the operation inplace on the original object.\n",
      "\n",
      "\n",
      "  df[column].fillna(most_frequent_value, inplace=True)\n",
      "C:\\Users\\Thand\\AppData\\Local\\Temp\\ipykernel_29136\\1149771285.py:18: FutureWarning: A value is trying to be set on a copy of a DataFrame or Series through chained assignment using an inplace method.\n",
      "The behavior will change in pandas 3.0. This inplace method will never work because the intermediate object on which we are setting values always behaves as a copy.\n",
      "\n",
      "For example, when doing 'df[col].method(value, inplace=True)', try using 'df.method({col: value}, inplace=True)' or df[col] = df[col].method(value) instead, to perform the operation inplace on the original object.\n",
      "\n",
      "\n",
      "  df['rating'].fillna(mean_value, inplace=True)\n",
      "C:\\Users\\Thand\\AppData\\Local\\Temp\\ipykernel_29136\\1149771285.py:23: FutureWarning: A value is trying to be set on a copy of a DataFrame or Series through chained assignment using an inplace method.\n",
      "The behavior will change in pandas 3.0. This inplace method will never work because the intermediate object on which we are setting values always behaves as a copy.\n",
      "\n",
      "For example, when doing 'df[col].method(value, inplace=True)', try using 'df.method({col: value}, inplace=True)' or df[col] = df[col].method(value) instead, to perform the operation inplace on the original object.\n",
      "\n",
      "\n",
      "  df['episodes'].fillna(median_value, inplace=True)\n"
     ]
    }
   ],
   "source": [
    "anime_clean = handle_missing_values(anime_copy)"
   ]
  },
  {
   "cell_type": "code",
   "execution_count": 6,
   "id": "b08615b3-c0b9-4a95-b0ed-2a9d40ab9b91",
   "metadata": {},
   "outputs": [
    {
     "data": {
      "text/html": [
       "<div>\n",
       "<style scoped>\n",
       "    .dataframe tbody tr th:only-of-type {\n",
       "        vertical-align: middle;\n",
       "    }\n",
       "\n",
       "    .dataframe tbody tr th {\n",
       "        vertical-align: top;\n",
       "    }\n",
       "\n",
       "    .dataframe thead th {\n",
       "        text-align: right;\n",
       "    }\n",
       "</style>\n",
       "<table border=\"1\" class=\"dataframe\">\n",
       "  <thead>\n",
       "    <tr style=\"text-align: right;\">\n",
       "      <th></th>\n",
       "      <th>anime_id</th>\n",
       "      <th>name</th>\n",
       "      <th>genre</th>\n",
       "      <th>type</th>\n",
       "      <th>episodes</th>\n",
       "      <th>rating</th>\n",
       "      <th>members</th>\n",
       "    </tr>\n",
       "  </thead>\n",
       "  <tbody>\n",
       "    <tr>\n",
       "      <th>0</th>\n",
       "      <td>32281</td>\n",
       "      <td>Kimi no Na wa.</td>\n",
       "      <td>Drama, Romance, School, Supernatural</td>\n",
       "      <td>Movie</td>\n",
       "      <td>1.0</td>\n",
       "      <td>9.37</td>\n",
       "      <td>200630</td>\n",
       "    </tr>\n",
       "    <tr>\n",
       "      <th>1</th>\n",
       "      <td>5114</td>\n",
       "      <td>Fullmetal Alchemist: Brotherhood</td>\n",
       "      <td>Action, Adventure, Drama, Fantasy, Magic, Mili...</td>\n",
       "      <td>TV</td>\n",
       "      <td>64.0</td>\n",
       "      <td>9.26</td>\n",
       "      <td>793665</td>\n",
       "    </tr>\n",
       "    <tr>\n",
       "      <th>2</th>\n",
       "      <td>28977</td>\n",
       "      <td>Gintama°</td>\n",
       "      <td>Action, Comedy, Historical, Parody, Samurai, S...</td>\n",
       "      <td>TV</td>\n",
       "      <td>51.0</td>\n",
       "      <td>9.25</td>\n",
       "      <td>114262</td>\n",
       "    </tr>\n",
       "    <tr>\n",
       "      <th>3</th>\n",
       "      <td>9253</td>\n",
       "      <td>Steins;Gate</td>\n",
       "      <td>Sci-Fi, Thriller</td>\n",
       "      <td>TV</td>\n",
       "      <td>24.0</td>\n",
       "      <td>9.17</td>\n",
       "      <td>673572</td>\n",
       "    </tr>\n",
       "    <tr>\n",
       "      <th>4</th>\n",
       "      <td>9969</td>\n",
       "      <td>Gintama&amp;#039;</td>\n",
       "      <td>Action, Comedy, Historical, Parody, Samurai, S...</td>\n",
       "      <td>TV</td>\n",
       "      <td>51.0</td>\n",
       "      <td>9.16</td>\n",
       "      <td>151266</td>\n",
       "    </tr>\n",
       "  </tbody>\n",
       "</table>\n",
       "</div>"
      ],
      "text/plain": [
       "   anime_id                              name  \\\n",
       "0     32281                    Kimi no Na wa.   \n",
       "1      5114  Fullmetal Alchemist: Brotherhood   \n",
       "2     28977                          Gintama°   \n",
       "3      9253                       Steins;Gate   \n",
       "4      9969                     Gintama&#039;   \n",
       "\n",
       "                                               genre   type  episodes  rating  \\\n",
       "0               Drama, Romance, School, Supernatural  Movie       1.0    9.37   \n",
       "1  Action, Adventure, Drama, Fantasy, Magic, Mili...     TV      64.0    9.26   \n",
       "2  Action, Comedy, Historical, Parody, Samurai, S...     TV      51.0    9.25   \n",
       "3                                   Sci-Fi, Thriller     TV      24.0    9.17   \n",
       "4  Action, Comedy, Historical, Parody, Samurai, S...     TV      51.0    9.16   \n",
       "\n",
       "   members  \n",
       "0   200630  \n",
       "1   793665  \n",
       "2   114262  \n",
       "3   673572  \n",
       "4   151266  "
      ]
     },
     "execution_count": 6,
     "metadata": {},
     "output_type": "execute_result"
    }
   ],
   "source": [
    "anime_clean.head()"
   ]
  },
  {
   "cell_type": "code",
   "execution_count": 7,
   "id": "40ff36a8-84f6-4ffe-9ae4-cc207e39e179",
   "metadata": {},
   "outputs": [
    {
     "name": "stdout",
     "output_type": "stream",
     "text": [
      "total number of duplicate rows: 0\n",
      "Missing values in each column: \n",
      "anime_id    0\n",
      "name        0\n",
      "genre       0\n",
      "type        0\n",
      "episodes    0\n",
      "rating      0\n",
      "members     0\n",
      "dtype: int64\n"
     ]
    }
   ],
   "source": [
    "check_data(anime_clean)"
   ]
  },
  {
   "cell_type": "code",
   "execution_count": 8,
   "id": "c6fee219-d8fb-4844-8489-d607859be5ce",
   "metadata": {},
   "outputs": [],
   "source": [
    "def clean_text(text):\n",
    "        \n",
    "        #check that the text is a string and check if it's an NaN\n",
    "        if not isinstance(text,str) or pd.isna(text):\n",
    "                return \"\"\n",
    "        \n",
    "        #lowercase the text\n",
    "        text = text.lower()\n",
    "        \n",
    "        #remove punctuation\n",
    "        text = text.translate(str.maketrans('','',string.punctuation))\n",
    "        \n",
    "        #remove numerical values\n",
    "        text = re.sub(r'd\\+','',text)\n",
    "        \n",
    "        #Tokenize the text\n",
    "        tokens = word_tokenize(text) \n",
    "        \n",
    "        #Remove stop words\n",
    "        stop_words = set(stopwords.words('english'))\n",
    "        tokens = [word for word in tokens if word not in stop_words]\n",
    "        \n",
    "        #Lemmatization\n",
    "        lemmatizer = WordNetLemmatizer()\n",
    "        tokens = [lemmatizer.lemmatize(word) for word in tokens]\n",
    "        \n",
    "        #Remove special characters and extra whitespaces\n",
    "        tokens = [re.sub(r'\\W+', '',word) for word in tokens]\n",
    "        \n",
    "        #Filter out empty strings and single letter words\n",
    "        tokens = [word for word in tokens if word and len(word) > 1]\n",
    "            \n",
    "        # Ensure that words are written as individual words\n",
    "        distinct_tokens = set(tokens)\n",
    "        \n",
    "        # Join the tokens back together\n",
    "        text = ' '.join(distinct_tokens)\n",
    "        \n",
    "        \n",
    "        return text"
   ]
  },
  {
   "cell_type": "code",
   "execution_count": 9,
   "id": "c38fd2db-5ad9-47e1-a0b4-0870b2e50db3",
   "metadata": {},
   "outputs": [],
   "source": [
    "df = anime_clean\n",
    "text_columns = ['name', 'genre', 'type']\n",
    "for column in text_columns:\n",
    "    df[column] = df[column].astype(str).apply(clean_text) \n"
   ]
  },
  {
   "cell_type": "code",
   "execution_count": 10,
   "id": "8d43ac12-4f89-44b9-8cfb-e17802c1cd51",
   "metadata": {},
   "outputs": [
    {
     "data": {
      "text/plain": [
       "Index(['anime_id', 'name', 'genre', 'type', 'episodes', 'rating', 'members'], dtype='object')"
      ]
     },
     "execution_count": 10,
     "metadata": {},
     "output_type": "execute_result"
    }
   ],
   "source": [
    "df.columns"
   ]
  },
  {
   "cell_type": "markdown",
   "id": "7813153f",
   "metadata": {},
   "source": [
    "df merge with train csv and drop the other rating and then split "
   ]
  },
  {
   "cell_type": "code",
   "execution_count": 11,
   "id": "2b140042-0918-46f5-ae20-33377c9ab331",
   "metadata": {},
   "outputs": [
    {
     "name": "stdout",
     "output_type": "stream",
     "text": [
      "200     fullmetal alchemist\n",
      "101      magic kingdom magi\n",
      "268    labyrinth magic magi\n",
      "Name: name, dtype: object\n"
     ]
    }
   ],
   "source": [
    "import pandas as pd\n",
    "from sklearn.feature_extraction.text import TfidfVectorizer\n",
    "from sklearn.metrics.pairwise import cosine_similarity\n",
    "\n",
    "\n",
    "# Split genres into individual columns and handle NaN values\n",
    "df['genre'] = df['genre'].astype(str).str.split()\n",
    "all_genres = set([genre for sublist in df['genre'] if isinstance(sublist, list) for genre in sublist])\n",
    "\n",
    "for genre in all_genres:\n",
    "    df[genre] = df['genre'].apply(lambda x: 1 if isinstance(x, list) and genre in x else 0)\n",
    "\n",
    "# One-hot encode the 'type' column\n",
    "df_encoded = pd.get_dummies(df, columns=['type'])\n",
    "\n",
    "# Drop original 'genre' column from the new dataset (since it was one-hot encoded)\n",
    "df_encoded.drop('genre', axis=1, inplace=True)\n",
    "\n",
    "# Normalize numerical features (episodes, rating)\n",
    "df_encoded['episodes'] = (df_encoded['episodes'] - df_encoded['episodes'].min()) / (df_encoded['episodes'].max() - df_encoded['episodes'].min())\n",
    "df_encoded['rating'] = (df_encoded['rating'] - df_encoded['rating'].min()) / (df_encoded['rating'].max() - df_encoded['rating'].min())\n",
    "\n",
    "# Create feature matrix and calculate cosine similarity\n",
    "features = df_encoded.drop(columns=['anime_id', 'name', 'members']) # Dropped incorrect ';'\n",
    "similarity_matrix = cosine_similarity(features)\n",
    "\n",
    "# Function to get recommendations\n",
    "def get_recommendations(anime_name, similarity_matrix, df_encoded, top_n=3):\n",
    "    try:  # Try to find the anime\n",
    "        idx = df_encoded[df_encoded['name'] == anime_name].index[0]\n",
    "        similar_indices = similarity_matrix[idx].argsort()[::-1][1:top_n+1]\n",
    "        return df_encoded['name'].iloc[similar_indices]\n",
    "    except IndexError:  # Catch the error if the anime is not found\n",
    "        print(f\"Anime '{anime_name}' not found in the dataset.\")\n",
    "        return []  # Or return a default recommendation list\n",
    "\n",
    "\n",
    "recommendations = get_recommendations(\"fullmetal alchemist brotherhood\", similarity_matrix, df_encoded)  # Corrected anime name\n",
    "print(recommendations)"
   ]
  },
  {
   "cell_type": "markdown",
   "id": "475cb0cb-4fb3-4e8a-940c-4685a138f0c0",
   "metadata": {},
   "source": [
    "**Lets pickle the Similarity Matrix, the dataframe and the reccomender function**"
   ]
  },
  {
   "cell_type": "code",
   "execution_count": 12,
   "id": "bbe98e76-a53a-4a63-8011-8157732a2627",
   "metadata": {},
   "outputs": [],
   "source": [
    "import pickle\n",
    "\n",
    "# Save similarity matrix\n",
    "with open('similarity_matrix.pkl', 'wb') as f:\n",
    "    pickle.dump(similarity_matrix, f)\n",
    "\n",
    "# Save dataframe\n",
    "with open('anime_data.pkl', 'wb') as f:\n",
    "    pickle.dump(df, f)\n",
    "\n",
    "# Optionally, you can also save the recommendation function\n",
    "with open('recommendation_function.pkl', 'wb') as f:\n",
    "    pickle.dump(get_recommendations, f)  \n"
   ]
  },
  {
   "cell_type": "code",
   "execution_count": null,
   "id": "81fb792c-632c-4774-9f6f-c69b9b11a692",
   "metadata": {},
   "outputs": [],
   "source": []
  }
 ],
 "metadata": {
  "kernelspec": {
   "display_name": "Python 3 (ipykernel)",
   "language": "python",
   "name": "python3"
  },
  "language_info": {
   "codemirror_mode": {
    "name": "ipython",
    "version": 3
   },
   "file_extension": ".py",
   "mimetype": "text/x-python",
   "name": "python",
   "nbconvert_exporter": "python",
   "pygments_lexer": "ipython3",
   "version": "3.11.5"
  }
 },
 "nbformat": 4,
 "nbformat_minor": 5
}
